{
 "cells": [
  {
   "cell_type": "markdown",
   "id": "opposite-scholar",
   "metadata": {},
   "source": [
    "# PseudoColoring using OpenCV colormap"
   ]
  },
  {
   "cell_type": "markdown",
   "id": "driving-fundamentals",
   "metadata": {},
   "source": [
    "---\n",
    "Before run the script, please install below packages (libraries)\n",
    "\n",
    "<ul>- OpenCV : <i> pip install opencv-python </i></ul>\n",
    "<ul>- Matplotlib : <i> pip install matplotlib </i></ul>\n",
    "<ul>- Jupyter notebook: <i> pip install jupyter </i></ul>"
   ]
  },
  {
   "cell_type": "markdown",
   "id": "presidential-richmond",
   "metadata": {},
   "source": [
    "## Introduction"
   ]
  },
  {
   "cell_type": "markdown",
   "id": "robust-watson",
   "metadata": {},
   "source": [
    "This is a PseudoColorMap using OpenCV colormap. This module consists of three main part:\n",
    "\n",
    "<ul>- PART I: Load the image <i>  ---------------------------------- completed</i></ul>\n",
    "<ul>- PART II: Map the PseudoColor <i>  -------------------------- completed</i></ul>\n",
    "<ul>- PART III: Run the script <i>  ---------------------------------- completed</i></ul>\n",
    "\n",
    "\n",
    "\n",
    "Reference: https://learnopencv.com/applycolormap-for-pseudocoloring-in-opencv-c-python/#download"
   ]
  },
  {
   "cell_type": "markdown",
   "id": "cloudy-payment",
   "metadata": {},
   "source": [
    "### Import the packages and libraries"
   ]
  },
  {
   "cell_type": "code",
   "execution_count": null,
   "id": "supported-priest",
   "metadata": {},
   "outputs": [],
   "source": [
    "################################################################################\n",
    "\"\"\"\n",
    "Authors: JiHoon Kim, jihoon.kim@fu-berlin.de\n",
    "Last-modified : 4th March 2021\n",
    "\"\"\"\n",
    "import cv2\n",
    "import matplotlib.pyplot as plt\n",
    "import os, shutil\n",
    "from os.path import join\n",
    "from datetime import datetime"
   ]
  },
  {
   "cell_type": "markdown",
   "id": "systematic-outside",
   "metadata": {},
   "source": [
    "## PART I: Load the image"
   ]
  },
  {
   "cell_type": "markdown",
   "id": "finnish-taiwan",
   "metadata": {},
   "source": [
    "Please change the put the image in the data list below."
   ]
  },
  {
   "cell_type": "code",
   "execution_count": null,
   "id": "behavioral-malta",
   "metadata": {},
   "outputs": [],
   "source": [
    "################################################################################\n",
    "# load the image files\n",
    "data = [\"IMG001.jpg\",\"IMG002.jpg\",\"IMG003.jpg\",\"IMG004.jpg\",\"IMG005.jpg\",\n",
    "        \"IMG006.jpg\",\"IMG007.jpg\",\"IMG008.jpg\",\"IMG009.jpg\",\"IMG010.jpg\"]\n",
    "\n",
    "# Set the directory\n",
    "input_name = \"Data\"\n",
    "output_name = \"Result\"\n",
    "pwd = os.getcwd()"
   ]
  },
  {
   "cell_type": "markdown",
   "id": "choice-drawing",
   "metadata": {},
   "source": [
    "## PART II: Map the pseudocolor"
   ]
  },
  {
   "cell_type": "code",
   "execution_count": null,
   "id": "shared-details",
   "metadata": {},
   "outputs": [],
   "source": [
    "# Define the pseudocolmap\n",
    "def pseudocolmap(data):\n",
    "    # Set the path and directory\n",
    "    input_dir = join(pwd, \"../\"+input_name+\"/\"+data)\n",
    "    output_dir = input_dir.replace(input_name, output_name)\n",
    "    if not os.path.isdir(os.path.dirname(output_dir)):                                                           \n",
    "        os.makedirs(os.path.dirname(output_dir))\n",
    "    # Convert Grey to Pseudocolor\n",
    "    im_gray = cv2.imread(input_dir, cv2.IMREAD_GRAYSCALE)\n",
    "    im_color = cv2.applyColorMap(im_gray, cv2.COLORMAP_RAINBOW)\n",
    "    # visualiza the result\n",
    "    b, g, r = cv2.split(im_color)\n",
    "    image2 =cv2.merge([r,g,b])\n",
    "    plt.imshow(image2)\n",
    "    plt.xticks([])\n",
    "    plt.yticks([])\n",
    "    plt.show()\n",
    "    print(output_dir)\n",
    "    cv2.imwrite(output_dir, im_color)\n",
    "    print(data, \"psudocolmap saved in\", output_dir)"
   ]
  },
  {
   "cell_type": "markdown",
   "id": "center-amsterdam",
   "metadata": {},
   "source": [
    "## PART III: Run the script"
   ]
  },
  {
   "cell_type": "code",
   "execution_count": null,
   "id": "encouraging-discovery",
   "metadata": {},
   "outputs": [],
   "source": [
    "# Loop the pseudoColorMap\n",
    "start = datetime.now()\n",
    "print(\"###### Starting at \",start)\n",
    "for i in data:\n",
    "    print(i)\n",
    "    pseudocolmap(i)\n",
    "    print(\" \")\n",
    "complete = datetime.now()\n",
    "print(\"###### Completed at {}\".format(datetime.now()))\n",
    "print(\"###### Computation time :\", complete - start)"
   ]
  },
  {
   "cell_type": "code",
   "execution_count": null,
   "id": "connected-sphere",
   "metadata": {},
   "outputs": [],
   "source": []
  }
 ],
 "metadata": {
  "kernelspec": {
   "display_name": "Python 3",
   "language": "python",
   "name": "python3"
  },
  "language_info": {
   "codemirror_mode": {
    "name": "ipython",
    "version": 3
   },
   "file_extension": ".py",
   "mimetype": "text/x-python",
   "name": "python",
   "nbconvert_exporter": "python",
   "pygments_lexer": "ipython3",
   "version": "3.8.5"
  }
 },
 "nbformat": 4,
 "nbformat_minor": 5
}
